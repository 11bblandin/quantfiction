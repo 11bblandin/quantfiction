{
 "cells": [
  {
   "cell_type": "code",
   "execution_count": 1,
   "metadata": {},
   "outputs": [],
   "source": [
    "import pandas as pd, numpy as np\n",
    "import matplotlib as mpl, matplotlib.pyplot as plt, seaborn as sns\n",
    "from tqdm import tqdm_notebook as tqdm\n",
    "# from help_functions import *\n",
    "\n",
    "%matplotlib inline\n",
    "sns.set_style('whitegrid')\n",
    "mpl.rcParams['savefig.dpi'] = 300"
   ]
  },
  {
   "cell_type": "markdown",
   "metadata": {},
   "source": [
    "# Helper Functions"
   ]
  },
  {
   "cell_type": "code",
   "execution_count": 11,
   "metadata": {},
   "outputs": [],
   "source": [
    "def pd_tickround(df, tick_size=1):\n",
    "    return np.round(df.astype(float).divide(tick_size)).multiply(tick_size).astype(int)\n",
    "\n",
    "def tickround(x, tick_size=5):\n",
    "    return int(tick_size * round(float(x)/tick_size))\n",
    "\n",
    "def calc_n_ticks(side, inverse, target_price, tick_size, maker_fee, taker_fee):\n",
    "    if side == 'long':\n",
    "        if inverse:\n",
    "            n_ticks = -target_price * (taker_fee - maker_fee) / (tick_size * (taker_fee - maker_fee - 1)) + 1\n",
    "        else:\n",
    "            n_ticks = target_price * (taker_fee - maker_fee) / tick_size + 1\n",
    "    elif side == 'short':\n",
    "        if inverse:\n",
    "            n_ticks = (target_price/tick_size) * (1 / (maker_fee - taker_fee -1) + 1) + 1\n",
    "        else:\n",
    "            n_ticks = target_price * (taker_fee - maker_fee) / tick_size + 1\n",
    "    return abs(n_ticks)\n",
    "\n",
    "def calc_exec_price(side, inverse, target_price, tick_size, maker_fee, taker_fee, thresh=5):\n",
    "    n_ticks = calc_n_ticks(side, inverse, target_price, tick_size, maker_fee, taker_fee)\n",
    "    n_ticks = np.max([0, n_ticks-thresh])\n",
    "    if side == 'long':\n",
    "        exec_price = target_price + n_ticks * tick_size\n",
    "    elif side == 'short':\n",
    "        exec_price = target_price - n_ticks * tick_size\n",
    "    return tickround(exec_price, tick_size)"
   ]
  },
  {
   "cell_type": "markdown",
   "metadata": {},
   "source": [
    "# Load Data"
   ]
  },
  {
   "cell_type": "code",
   "execution_count": 2,
   "metadata": {},
   "outputs": [
    {
     "data": {
      "text/html": [
       "<div>\n",
       "<style scoped>\n",
       "    .dataframe tbody tr th:only-of-type {\n",
       "        vertical-align: middle;\n",
       "    }\n",
       "\n",
       "    .dataframe tbody tr th {\n",
       "        vertical-align: top;\n",
       "    }\n",
       "\n",
       "    .dataframe thead th {\n",
       "        text-align: right;\n",
       "    }\n",
       "</style>\n",
       "<table border=\"1\" class=\"dataframe\">\n",
       "  <thead>\n",
       "    <tr style=\"text-align: right;\">\n",
       "      <th></th>\n",
       "      <th>contract</th>\n",
       "      <th>target_price</th>\n",
       "      <th>multiplier</th>\n",
       "      <th>tick_size</th>\n",
       "      <th>inverse</th>\n",
       "      <th>initial_margin</th>\n",
       "      <th>maint_margin</th>\n",
       "      <th>maker_fee</th>\n",
       "      <th>taker_fee</th>\n",
       "    </tr>\n",
       "    <tr>\n",
       "      <th>symbol</th>\n",
       "      <th></th>\n",
       "      <th></th>\n",
       "      <th></th>\n",
       "      <th></th>\n",
       "      <th></th>\n",
       "      <th></th>\n",
       "      <th></th>\n",
       "      <th></th>\n",
       "      <th></th>\n",
       "    </tr>\n",
       "  </thead>\n",
       "  <tbody>\n",
       "    <tr>\n",
       "      <th>XBTUSD</th>\n",
       "      <td>XBTUSD</td>\n",
       "      <td>1029050</td>\n",
       "      <td>100.0</td>\n",
       "      <td>50</td>\n",
       "      <td>True</td>\n",
       "      <td>0.01</td>\n",
       "      <td>0.005</td>\n",
       "      <td>-0.00025</td>\n",
       "      <td>0.00075</td>\n",
       "    </tr>\n",
       "    <tr>\n",
       "      <th>XBT1</th>\n",
       "      <td>XBTU19</td>\n",
       "      <td>1035500</td>\n",
       "      <td>100.0</td>\n",
       "      <td>50</td>\n",
       "      <td>True</td>\n",
       "      <td>0.01</td>\n",
       "      <td>0.005</td>\n",
       "      <td>-0.00025</td>\n",
       "      <td>0.00075</td>\n",
       "    </tr>\n",
       "    <tr>\n",
       "      <th>ETHUSD</th>\n",
       "      <td>ETHUSD</td>\n",
       "      <td>18810</td>\n",
       "      <td>100.0</td>\n",
       "      <td>5</td>\n",
       "      <td>False</td>\n",
       "      <td>0.02</td>\n",
       "      <td>0.010</td>\n",
       "      <td>-0.00025</td>\n",
       "      <td>0.00075</td>\n",
       "    </tr>\n",
       "    <tr>\n",
       "      <th>ADAXBT</th>\n",
       "      <td>ADAU19</td>\n",
       "      <td>457</td>\n",
       "      <td>100000000.0</td>\n",
       "      <td>1</td>\n",
       "      <td>False</td>\n",
       "      <td>0.05</td>\n",
       "      <td>0.025</td>\n",
       "      <td>-0.00050</td>\n",
       "      <td>0.00250</td>\n",
       "    </tr>\n",
       "    <tr>\n",
       "      <th>BCHXBT</th>\n",
       "      <td>BCHU19</td>\n",
       "      <td>3034000</td>\n",
       "      <td>100000000.0</td>\n",
       "      <td>1000</td>\n",
       "      <td>False</td>\n",
       "      <td>0.05</td>\n",
       "      <td>0.025</td>\n",
       "      <td>-0.00050</td>\n",
       "      <td>0.00250</td>\n",
       "    </tr>\n",
       "    <tr>\n",
       "      <th>EOSXBT</th>\n",
       "      <td>EOSU19</td>\n",
       "      <td>34960</td>\n",
       "      <td>100000000.0</td>\n",
       "      <td>10</td>\n",
       "      <td>False</td>\n",
       "      <td>0.05</td>\n",
       "      <td>0.025</td>\n",
       "      <td>-0.00050</td>\n",
       "      <td>0.00250</td>\n",
       "    </tr>\n",
       "    <tr>\n",
       "      <th>ETHXBT</th>\n",
       "      <td>ETHU19</td>\n",
       "      <td>1814000</td>\n",
       "      <td>100000000.0</td>\n",
       "      <td>1000</td>\n",
       "      <td>False</td>\n",
       "      <td>0.05</td>\n",
       "      <td>0.025</td>\n",
       "      <td>-0.00050</td>\n",
       "      <td>0.00250</td>\n",
       "    </tr>\n",
       "    <tr>\n",
       "      <th>LTCXBT</th>\n",
       "      <td>LTCU19</td>\n",
       "      <td>732500</td>\n",
       "      <td>100000000.0</td>\n",
       "      <td>500</td>\n",
       "      <td>False</td>\n",
       "      <td>0.05</td>\n",
       "      <td>0.025</td>\n",
       "      <td>-0.00050</td>\n",
       "      <td>0.00250</td>\n",
       "    </tr>\n",
       "    <tr>\n",
       "      <th>TRXXBT</th>\n",
       "      <td>TRXU19</td>\n",
       "      <td>167</td>\n",
       "      <td>100000000.0</td>\n",
       "      <td>1</td>\n",
       "      <td>False</td>\n",
       "      <td>0.05</td>\n",
       "      <td>0.025</td>\n",
       "      <td>-0.00050</td>\n",
       "      <td>0.00250</td>\n",
       "    </tr>\n",
       "    <tr>\n",
       "      <th>XRPXBT</th>\n",
       "      <td>XRPU19</td>\n",
       "      <td>2541</td>\n",
       "      <td>100000000.0</td>\n",
       "      <td>1</td>\n",
       "      <td>False</td>\n",
       "      <td>0.05</td>\n",
       "      <td>0.025</td>\n",
       "      <td>-0.00050</td>\n",
       "      <td>0.00250</td>\n",
       "    </tr>\n",
       "  </tbody>\n",
       "</table>\n",
       "</div>"
      ],
      "text/plain": [
       "       contract  target_price   multiplier  tick_size  inverse  \\\n",
       "symbol                                                           \n",
       "XBTUSD   XBTUSD       1029050        100.0         50     True   \n",
       "XBT1     XBTU19       1035500        100.0         50     True   \n",
       "ETHUSD   ETHUSD         18810        100.0          5    False   \n",
       "ADAXBT   ADAU19           457  100000000.0          1    False   \n",
       "BCHXBT   BCHU19       3034000  100000000.0       1000    False   \n",
       "EOSXBT   EOSU19         34960  100000000.0         10    False   \n",
       "ETHXBT   ETHU19       1814000  100000000.0       1000    False   \n",
       "LTCXBT   LTCU19        732500  100000000.0        500    False   \n",
       "TRXXBT   TRXU19           167  100000000.0          1    False   \n",
       "XRPXBT   XRPU19          2541  100000000.0          1    False   \n",
       "\n",
       "        initial_margin  maint_margin  maker_fee  taker_fee  \n",
       "symbol                                                      \n",
       "XBTUSD            0.01         0.005   -0.00025    0.00075  \n",
       "XBT1              0.01         0.005   -0.00025    0.00075  \n",
       "ETHUSD            0.02         0.010   -0.00025    0.00075  \n",
       "ADAXBT            0.05         0.025   -0.00050    0.00250  \n",
       "BCHXBT            0.05         0.025   -0.00050    0.00250  \n",
       "EOSXBT            0.05         0.025   -0.00050    0.00250  \n",
       "ETHXBT            0.05         0.025   -0.00050    0.00250  \n",
       "LTCXBT            0.05         0.025   -0.00050    0.00250  \n",
       "TRXXBT            0.05         0.025   -0.00050    0.00250  \n",
       "XRPXBT            0.05         0.025   -0.00050    0.00250  "
      ]
     },
     "execution_count": 2,
     "metadata": {},
     "output_type": "execute_result"
    }
   ],
   "source": [
    "settings_path = 'data/symbol_settings.csv'\n",
    "symbol_settings = pd.read_csv(settings_path, index_col=0)\n",
    "symbol_settings"
   ]
  },
  {
   "cell_type": "markdown",
   "metadata": {},
   "source": [
    "# Bitmex-Specific Idiosyncracies"
   ]
  },
  {
   "cell_type": "markdown",
   "metadata": {},
   "source": [
    "## Plot Break-Evens"
   ]
  },
  {
   "cell_type": "markdown",
   "metadata": {},
   "source": [
    "The code in this section isn't the cleanest; you're gonna have to forgive me on that one"
   ]
  },
  {
   "cell_type": "code",
   "execution_count": 16,
   "metadata": {},
   "outputs": [
    {
     "data": {
      "image/png": "[encoded data removed]",
      "text/plain": [
       "<Figure size 432x288 with 1 Axes>"
      ]
     },
     "metadata": {
      "needs_background": "light"
     },
     "output_type": "display_data"
    }
   ],
   "source": [
    "symbol = 'XBTUSD'\n",
    "\n",
    "# Load symbol-specific parameters\n",
    "ind = symbol_settings.loc[symbol]\n",
    "side = 'long'\n",
    "inverse = ind['inverse']\n",
    "tick_size = ind['tick_size']\n",
    "maker_fee = ind['maker_fee']\n",
    "taker_fee = ind['taker_fee']\n",
    "target_price = ind['target_price']\n",
    "\n",
    "lo_ticks = 0\n",
    "hi_ticks = 30\n",
    "ticks = np.arange(-lo_ticks, hi_ticks)\n",
    "prices = pd_tickround(pd.Series(target_price + ticks*tick_size, index=ticks))\n",
    "\n",
    "# Calculate passive costs\n",
    "if side == 'long':\n",
    "    if inverse:\n",
    "        limit_fees = 1 - target_price/(prices-tick_size) + maker_fee\n",
    "    else:\n",
    "        limit_fees = (prices-tick_size)/target_price - 1 + maker_fee\n",
    "elif side == 'short':\n",
    "    if inverse:\n",
    "        limit_fees = maker_fee - (1 - target_price/(prices+tick_size))\n",
    "    else:\n",
    "        limit_fees = maker_fee - (prices+tick_size)/target_price + 1\n",
    "\n",
    "n_ticks = calc_n_ticks(side=side, inverse=inverse, maker_fee=maker_fee, taker_fee=taker_fee, target_price=target_price, tick_size=tick_size)\n",
    "break_even = target_price + n_ticks * tick_size\n",
    "\n",
    "# Plot Break-Evens\n",
    "fig, ax = plt.subplots(figsize=(6,4))\n",
    "ax.plot(prices, limit_fees)\n",
    "ax.axvline(target_price, c='k', lw=0.5)\n",
    "ax.axhline(0, c='k', lw=0.5)\n",
    "ax.axhline(taker_fee, c='r', lw=0.5, linestyle=':')\n",
    "ax.scatter(break_even, taker_fee, marker='o', color='r')\n",
    "ax.annotate('# ticks: {:.3}'.format(n_ticks), xy=(break_even, taker_fee), \n",
    "            xytext=(break_even*0.9996, taker_fee*1.25),\n",
    "            arrowprops=dict(facecolor='black', shrink=0.05),\n",
    "            )\n",
    "\n",
    "ax.set_xticks(ax.get_xticks()[::1])\n",
    "xvals = ax.get_xticks()\n",
    "ax.set_xticklabels([int(x/100) for x in xvals])\n",
    "yvals = ax.get_yticks()\n",
    "ax.set_yticklabels(['{:,.2%}'.format(x) for x in yvals])\n",
    "ax.set_xlabel('Price (USD)')\n",
    "ax.set_ylabel('Total Costs (% of Order Value)')\n",
    "ax.set_title('XBTUSD Break-Evens', fontsize=13)\n",
    "\n",
    "fig.tight_layout()\n",
    "fig.savefig('XBTUSD Break-Evens')"
   ]
  },
  {
   "cell_type": "code",
   "execution_count": 14,
   "metadata": {},
   "outputs": [
    {
     "data": {
      "image/png": "[encoded data removed]",
      "text/plain": [
       "<Figure size 432x288 with 1 Axes>"
      ]
     },
     "metadata": {
      "needs_background": "light"
     },
     "output_type": "display_data"
    }
   ],
   "source": [
    "symbol = 'TRXXBT'\n",
    "\n",
    "# Load symbol-specific parameters\n",
    "ind = symbol_settings.loc[symbol]\n",
    "side = 'long'\n",
    "inverse = ind['inverse']\n",
    "tick_size = ind['tick_size']\n",
    "maker_fee = ind['maker_fee']\n",
    "taker_fee = ind['taker_fee']\n",
    "target_price = ind['target_price']\n",
    "\n",
    "lo_ticks = 0\n",
    "hi_ticks = 5\n",
    "ticks = np.arange(-lo_ticks, hi_ticks)\n",
    "prices = pd_tickround(pd.Series(target_price + ticks*tick_size, index=ticks))\n",
    "\n",
    "# Calculate passive costs\n",
    "if side == 'long':\n",
    "    if inverse:\n",
    "        limit_fees = 1 - target_price/(prices-tick_size) + maker_fee\n",
    "    else:\n",
    "        limit_fees = (prices-tick_size)/target_price - 1 + maker_fee\n",
    "elif side == 'short':\n",
    "    if inverse:\n",
    "        limit_fees = maker_fee - (1 - target_price/(prices+tick_size))\n",
    "    else:\n",
    "        limit_fees = maker_fee - (prices+tick_size)/target_price + 1\n",
    "\n",
    "n_ticks = calc_n_ticks(side=side, inverse=inverse, maker_fee=maker_fee, taker_fee=taker_fee, target_price=target_price, tick_size=tick_size)\n",
    "break_even = target_price + n_ticks * tick_size\n",
    "\n",
    "# Plot Break-Evens\n",
    "fig, ax = plt.subplots(figsize=(6, 4))\n",
    "ax.plot(prices, limit_fees)\n",
    "ax.axvline(target_price, c='k', lw=0.5)\n",
    "ax.axhline(0, c='k', lw=0.5)\n",
    "ax.axhline(taker_fee, c='r', lw=0.5, linestyle=':')\n",
    "ax.scatter(break_even, taker_fee, marker='o', color='r')\n",
    "# ax.annotate('# ticks: {}'.format(n_ticks), xy=(2,1))\n",
    "\n",
    "ax.annotate('# ticks: {:,.2}'.format(n_ticks), xy=(break_even, taker_fee), \n",
    "            xytext=(break_even*.993, taker_fee*1.55),\n",
    "            arrowprops=dict(facecolor='black', shrink=0.05),\n",
    "            )\n",
    "\n",
    "\n",
    "ax.set_xlim(166, 172)\n",
    "ax.set_xticks(ax.get_xticks()[::1])\n",
    "yvals = ax.get_yticks()\n",
    "ax.set_yticklabels(['{:,.2%}'.format(x) for x in yvals])\n",
    "ax.set_xlabel('Price (satoshis)')\n",
    "ax.set_ylabel('Total Costs (% of Order Value)')\n",
    "ax.set_title('TRXU19 Cost Break-Evens', fontsize=13)\n",
    "\n",
    "fig.tight_layout()\n",
    "fig.savefig('TRXU19 Break-Evens')"
   ]
  },
  {
   "cell_type": "markdown",
   "metadata": {},
   "source": [
    "## Calculate Break-Evens for all symbols"
   ]
  },
  {
   "cell_type": "code",
   "execution_count": 20,
   "metadata": {},
   "outputs": [
    {
     "data": {
      "application/vnd.jupyter.widget-view+json": {
       "model_id": "200913106c214d13be5a4cf26ecccf4a",
       "version_major": 2,
       "version_minor": 0
      },
      "text/plain": [
       "HBox(children=(IntProgress(value=0, max=10), HTML(value='')))"
      ]
     },
     "metadata": {},
     "output_type": "display_data"
    },
    {
     "name": "stdout",
     "output_type": "stream",
     "text": [
      "long\n",
      "XBTUSD 21 1029050 1029900\n",
      "XBT1 21 1035500 1036350\n",
      "ETHUSD 4 18810 18810\n",
      "ADAXBT 2 457 457\n",
      "BCHXBT 10 3034000 3039000\n",
      "EOSXBT 11 34960 35020\n",
      "ETHXBT 6 1814000 1815000\n",
      "LTCXBT 5 732500 732500\n",
      "TRXXBT 1 167 167\n",
      "XRPXBT 8 2541 2545\n",
      "short\n",
      "XBTUSD 21 1029050 1028200\n",
      "XBT1 21 1035500 1034650\n",
      "ETHUSD 4 18810 18810\n",
      "ADAXBT 2 457 457\n",
      "BCHXBT 10 3034000 3029000\n",
      "EOSXBT 11 34960 34900\n",
      "ETHXBT 6 1814000 1813000\n",
      "LTCXBT 5 732500 732500\n",
      "TRXXBT 1 167 167\n",
      "XRPXBT 8 2541 2537\n"
     ]
    }
   ],
   "source": [
    "symbols = symbol_settings.index\n",
    "t = tqdm(symbols, leave=True)\n",
    "\n",
    "for side in ['long', 'short']:\n",
    "    print(side)\n",
    "    for symbol in t:\n",
    "        t.set_description(symbol)\n",
    "        t.refresh()\n",
    "\n",
    "        ind = symbol_settings.loc[symbol] # individual settings\n",
    "        inverse = ind['inverse']\n",
    "        tick_size = ind['tick_size']\n",
    "        maker_fee = ind['maker_fee']\n",
    "        taker_fee = ind['taker_fee']\n",
    "        target_price = ind['target_price']\n",
    "\n",
    "        n_ticks = calc_n_ticks(side=side, inverse=inverse, maker_fee=maker_fee, taker_fee=taker_fee, target_price=target_price, tick_size=tick_size)\n",
    "        exec_price = calc_exec_price(side=side, inverse=inverse, maker_fee=maker_fee, taker_fee=taker_fee, target_price=target_price, tick_size=tick_size)\n",
    "        print(symbol, int(n_ticks), target_price, exec_price)"
   ]
  },
  {
   "cell_type": "markdown",
   "metadata": {},
   "source": [
    "# Estimating Timing Risk"
   ]
  },
  {
   "cell_type": "markdown",
   "metadata": {},
   "source": [
    "This is going to take a while.. go grab a cup of coffee"
   ]
  },
  {
   "cell_type": "code",
   "execution_count": null,
   "metadata": {},
   "outputs": [],
   "source": [
    "n_trials = 50000\n",
    "auto_correlations = [0.35, 0.4, 0.45, 0.5, 0.55, 0.6, 0.65]\n",
    "results = pd.DataFrame(columns=auto_correlations, index=np.arange(n_trials))\n",
    "\n",
    "for auto_correlation in tqdm(auto_correlations):\n",
    "    \n",
    "    for trial in range(n_trials):\n",
    "    #     print('\\n Trial #{}'.format(trial+1))\n",
    "\n",
    "        # Reset the count\n",
    "        down_ticks = 0\n",
    "        up_ticks = 0\n",
    "        total_excursion = 0 # tracks the total drift away from the start\n",
    "\n",
    "        # Choose the first tick randomly\n",
    "        tick = np.random.randint(0,2)\n",
    "\n",
    "        while down_ticks < 2 and total_excursion < 25:\n",
    "            # Set probability of next tick based on prev tick\n",
    "            prob_up = auto_correlation if tick > 0 else (1 - auto_correlation)\n",
    "            prob_down = 1 - prob_up\n",
    "            tick = np.random.choice([0,1], p=[prob_down, prob_up])\n",
    "\n",
    "    #         print('tick: {}1'.format('+' if tick>0 else '-'))\n",
    "            # downtick\n",
    "            if tick == 0:\n",
    "                down_ticks += 1\n",
    "                total_excursion -= 1\n",
    "            elif tick == 1:\n",
    "    #             up_ticks += 1\n",
    "                down_ticks = 0 # reset the count; looking for 2 consecutive\n",
    "                total_excursion += 1\n",
    "            fill = total_excursion + 1\n",
    "    #         print('Down Ticks: {}, Total Excursion: {}'.format(down_ticks, total_excursion))\n",
    "\n",
    "    #     print('Fill: {}'.format(fill))\n",
    "        results.loc[trial, auto_correlation] = fill\n",
    "        "
   ]
  },
  {
   "cell_type": "code",
   "execution_count": 94,
   "metadata": {},
   "outputs": [
    {
     "data": {
      "text/plain": [
       "(-2, 5)"
      ]
     },
     "execution_count": 94,
     "metadata": {},
     "output_type": "execute_result"
    },
    {
     "data": {
      "image/png": "[encoded data removed]",
      "text/plain": [
       "<Figure size 720x504 with 1 Axes>"
      ]
     },
     "metadata": {
      "needs_background": "light"
     },
     "output_type": "display_data"
    }
   ],
   "source": [
    "fig, ax = plt.subplots(figsize=(10,7))\n",
    "\n",
    "for col in results.columns:\n",
    "    (results[col].value_counts() / len(results)).sort_index().cumsum().plot(label=col, ax=ax)\n",
    "plt.legend(title='Auto-Cor')\n",
    "plt.axhline(0.9, c='k', lw=0.55)\n",
    "# plt.xticks(np)\n",
    "plt.xlim(-2, 5)"
   ]
  }
 ],
 "metadata": {
  "kernelspec": {
   "display_name": "Python 3",
   "language": "python",
   "name": "python3"
  },
  "language_info": {
   "codemirror_mode": {
    "name": "ipython",
    "version": 3
   },
   "file_extension": ".py",
   "mimetype": "text/x-python",
   "name": "python",
   "nbconvert_exporter": "python",
   "pygments_lexer": "ipython3",
   "version": "3.6.8"
  },
  "toc": {
   "base_numbering": 1,
   "nav_menu": {},
   "number_sections": true,
   "sideBar": true,
   "skip_h1_title": false,
   "title_cell": "Table of Contents",
   "title_sidebar": "Contents",
   "toc_cell": false,
   "toc_position": {},
   "toc_section_display": true,
   "toc_window_display": false
  }
 },
 "nbformat": 4,
 "nbformat_minor": 2
}

{
 "cells": [
  {
   "cell_type": "code",
   "execution_count": 1,
   "metadata": {},
   "outputs": [],
   "source": [
    "import pandas as pd, numpy as np\n",
    "import matplotlib.pyplot as plt, matplotlib as mpl, matplotlib.ticker as ticker\n",
    "import seaborn as sns\n",
    "import pystore\n",
    "import time\n",
    "import cma\n",
    "import itertools\n",
    "\n",
    "sns.set_style('white')\n",
    "mpl.rcParams['savefig.dpi'] = 300\n",
    "%matplotlib inline"
   ]
  },
  {
   "cell_type": "code",
   "execution_count": 2,
   "metadata": {},
   "outputs": [],
   "source": [
    "def calc_weighted_returns(returns, weights):\n",
    "    weighted_returns = returns.multiply(weights).sum(axis=1)\n",
    "    return weighted_returns\n",
    "\n",
    "def calc_ghpr(returns):\n",
    "    returns_array = np.array(returns)\n",
    "    twr = np.product(1 + returns_array)\n",
    "    ghpr = twr ** (1 / len(returns_array)) - 1\n",
    "    return ghpr"
   ]
  },
  {
   "cell_type": "markdown",
   "metadata": {},
   "source": [
    "# Two Uncorrelated Coins"
   ]
  },
  {
   "cell_type": "markdown",
   "metadata": {},
   "source": [
    "## Helper Functions"
   ]
  },
  {
   "cell_type": "code",
   "execution_count": 3,
   "metadata": {},
   "outputs": [],
   "source": [
    "def calc_weighted_returns(returns, weights):\n",
    "    weighted_returns = returns.multiply(weights).sum(axis=1)\n",
    "    return weighted_returns\n",
    "\n",
    "def calc_ghpr(returns):\n",
    "    returns_array = np.array(returns)\n",
    "    twr = np.product(1 + returns_array)\n",
    "    ghpr = twr ** (1 / len(returns_array)) - 1\n",
    "    return ghpr\n",
    "\n",
    "def get_worst_losses(returns):\n",
    "    worst_losses = np.min(returns, axis=0)\n",
    "    abs_worst = np.abs(worst_losses)\n",
    "    return np.array(abs_worst)\n",
    "\n",
    "def weight_combinations(returns, steps=100, bound_factor=1):\n",
    "    num_components = returns.shape[1]\n",
    "    worst_losses = get_worst_losses(returns)\n",
    "    potential_weights = np.linspace(0, 1, steps+1)[:-1]\n",
    "    weights_list = [list(potential_weights)] * num_components\n",
    "    combos = list(itertools.product(*weights_list))\n",
    "    combos_array = np.array(combos)\n",
    "    loss_bound = np.multiply(worst_losses, bound_factor)\n",
    "    norm_combos = np.divide(combos_array, loss_bound)\n",
    "    return norm_combos\n",
    "\n",
    "def f_multiple_returns(returns):\n",
    "    strategies = returns.columns\n",
    "    potential_weights = weight_combinations(returns)\n",
    "    f_curve = pd.DataFrame()\n",
    "    for i in range(len(potential_weights)):\n",
    "        weights = potential_weights[i]\n",
    "        weighted_returns = calc_weighted_returns(returns, weights)\n",
    "        ghpr = calc_ghpr(weighted_returns)\n",
    "        for j in range(len(strategies)):\n",
    "            f_curve.loc[i, strategies[j]] = weights[j]        \n",
    "        f_curve.loc[i, 'ghpr'] = ghpr\n",
    "    optimal_f = f_curve.loc[f_curve['ghpr'].idxmax()]\n",
    "    return {'f_curve':f_curve, 'optimal_f':optimal_f}"
   ]
  },
  {
   "cell_type": "markdown",
   "metadata": {},
   "source": [
    "## Non-Correlated Coins"
   ]
  },
  {
   "cell_type": "code",
   "execution_count": 4,
   "metadata": {},
   "outputs": [
    {
     "data": {
      "text/html": [
       "<div>\n",
       "<style scoped>\n",
       "    .dataframe tbody tr th:only-of-type {\n",
       "        vertical-align: middle;\n",
       "    }\n",
       "\n",
       "    .dataframe tbody tr th {\n",
       "        vertical-align: top;\n",
       "    }\n",
       "\n",
       "    .dataframe thead th {\n",
       "        text-align: right;\n",
       "    }\n",
       "</style>\n",
       "<table border=\"1\" class=\"dataframe\">\n",
       "  <thead>\n",
       "    <tr style=\"text-align: right;\">\n",
       "      <th></th>\n",
       "      <th>coin 1</th>\n",
       "      <th>coin 2</th>\n",
       "    </tr>\n",
       "    <tr>\n",
       "      <th>Scenario</th>\n",
       "      <th></th>\n",
       "      <th></th>\n",
       "    </tr>\n",
       "  </thead>\n",
       "  <tbody>\n",
       "    <tr>\n",
       "      <th>1</th>\n",
       "      <td>2</td>\n",
       "      <td>2</td>\n",
       "    </tr>\n",
       "    <tr>\n",
       "      <th>2</th>\n",
       "      <td>2</td>\n",
       "      <td>-1</td>\n",
       "    </tr>\n",
       "    <tr>\n",
       "      <th>3</th>\n",
       "      <td>-1</td>\n",
       "      <td>2</td>\n",
       "    </tr>\n",
       "    <tr>\n",
       "      <th>4</th>\n",
       "      <td>-1</td>\n",
       "      <td>-1</td>\n",
       "    </tr>\n",
       "  </tbody>\n",
       "</table>\n",
       "</div>"
      ],
      "text/plain": [
       "          coin 1  coin 2\n",
       "Scenario                \n",
       "1              2       2\n",
       "2              2      -1\n",
       "3             -1       2\n",
       "4             -1      -1"
      ]
     },
     "execution_count": 4,
     "metadata": {},
     "output_type": "execute_result"
    }
   ],
   "source": [
    "two_coins = pd.DataFrame({'coin 1':np.array([2,2,-1,-1]), 'coin 2':np.array([2,-1,2,-1])})\n",
    "two_coins.index = np.arange(1,5)\n",
    "two_coins.index.name = 'Scenario'\n",
    "two_coins"
   ]
  },
  {
   "cell_type": "code",
   "execution_count": 5,
   "metadata": {},
   "outputs": [
    {
     "name": "stderr",
     "output_type": "stream",
     "text": [
      "/Users/bblandin/anaconda3/envs/crypto/lib/python3.6/site-packages/ipykernel_launcher.py:8: RuntimeWarning: invalid value encountered in double_scalars\n",
      "  \n"
     ]
    },
    {
     "data": {
      "text/plain": [
       "coin 1    0.230000\n",
       "coin 2    0.230000\n",
       "ghpr      0.119119\n",
       "Name: 2323, dtype: float64"
      ]
     },
     "execution_count": 5,
     "metadata": {},
     "output_type": "execute_result"
    }
   ],
   "source": [
    "f_two_coins = f_multiple_returns(two_coins)\n",
    "f_two_coins['optimal_f']"
   ]
  },
  {
   "cell_type": "code",
   "execution_count": 6,
   "metadata": {},
   "outputs": [
    {
     "data": {
      "image/png": "[encoded data removed]",
      "text/plain": [
       "<matplotlib.figure.Figure at 0x1c23696208>"
      ]
     },
     "metadata": {},
     "output_type": "display_data"
    }
   ],
   "source": [
    "fig, ax = plt.subplots()\n",
    "optimal_idx = f_two_coins['f_curve']['ghpr'].idxmax()\n",
    "optimal_weights = f_two_coins['f_curve'].loc[optimal_idx, ['coin 1', 'coin 2']]\n",
    "pivoted = pd.pivot_table(f_two_coins['f_curve'], values='ghpr', index='coin 1', columns='coin 2')\n",
    "pivoted.sort_index(ascending=False, inplace=True)\n",
    "pivoted.index = np.round(pivoted.index, 2)\n",
    "pivoted.columns = np.round(pivoted.columns, 2)\n",
    "sns.heatmap(pivoted, cmap='RdYlGn', center=0, ax=ax, cbar_kws={'label':'GHPR'})\n",
    "\n",
    "# xvals = ax.get_xticklabels()\n",
    "# ax.set_xticklabels(['{:,.2f}'.format(float(x)) for x in xvals])\n",
    "# yvals = ax.get_yticklabels()\n",
    "# ax.set_yticklabels(['{:,.2f}'.format(float(x)) for x in yvals])\n",
    "\n",
    "# ax.imshow(pivoted)\n",
    "# ax.scatter(optimal_weights[0], optimal_weights[1], marker='x', c='r')\n",
    "ax.scatter(optimal_weights[0]*100, (1 - optimal_weights[1])*100, marker='x', c='b', s=100)\n",
    "fig.tight_layout()\n",
    "fig.savefig('Two Coins Heatmap')"
   ]
  },
  {
   "cell_type": "code",
   "execution_count": 7,
   "metadata": {},
   "outputs": [
    {
     "name": "stdout",
     "output_type": "stream",
     "text": [
      "                \n",
      "coin 1  0.230000\n",
      "coin 2  0.230000\n",
      "ghpr    0.119119\n"
     ]
    }
   ],
   "source": [
    "results = f_two_coins['optimal_f'].to_frame()\n",
    "results.columns = ['']\n",
    "print(results)"
   ]
  },
  {
   "cell_type": "markdown",
   "metadata": {},
   "source": [
    "## Positively Correlated Coins"
   ]
  },
  {
   "cell_type": "code",
   "execution_count": 8,
   "metadata": {},
   "outputs": [
    {
     "data": {
      "text/html": [
       "<div>\n",
       "<style scoped>\n",
       "    .dataframe tbody tr th:only-of-type {\n",
       "        vertical-align: middle;\n",
       "    }\n",
       "\n",
       "    .dataframe tbody tr th {\n",
       "        vertical-align: top;\n",
       "    }\n",
       "\n",
       "    .dataframe thead th {\n",
       "        text-align: right;\n",
       "    }\n",
       "</style>\n",
       "<table border=\"1\" class=\"dataframe\">\n",
       "  <thead>\n",
       "    <tr style=\"text-align: right;\">\n",
       "      <th></th>\n",
       "      <th>Coin 1</th>\n",
       "      <th>Coin 2</th>\n",
       "    </tr>\n",
       "    <tr>\n",
       "      <th>Scenario</th>\n",
       "      <th></th>\n",
       "      <th></th>\n",
       "    </tr>\n",
       "  </thead>\n",
       "  <tbody>\n",
       "    <tr>\n",
       "      <th>1</th>\n",
       "      <td>2</td>\n",
       "      <td>2</td>\n",
       "    </tr>\n",
       "    <tr>\n",
       "      <th>2</th>\n",
       "      <td>-1</td>\n",
       "      <td>-1</td>\n",
       "    </tr>\n",
       "  </tbody>\n",
       "</table>\n",
       "</div>"
      ],
      "text/plain": [
       "          Coin 1  Coin 2\n",
       "Scenario                \n",
       "1              2       2\n",
       "2             -1      -1"
      ]
     },
     "execution_count": 8,
     "metadata": {},
     "output_type": "execute_result"
    }
   ],
   "source": [
    "two_coins_corr = pd.DataFrame([[2,2], [-1,-1]], columns=['Coin 1', 'Coin 2'])\n",
    "two_coins_corr.index = np.arange(1,3)\n",
    "two_coins_corr.index.name = 'Scenario'\n",
    "two_coins_corr"
   ]
  },
  {
   "cell_type": "code",
   "execution_count": 9,
   "metadata": {},
   "outputs": [
    {
     "name": "stderr",
     "output_type": "stream",
     "text": [
      "/Users/bblandin/anaconda3/envs/crypto/lib/python3.6/site-packages/ipykernel_launcher.py:8: RuntimeWarning: invalid value encountered in double_scalars\n",
      "  \n"
     ]
    },
    {
     "name": "stdout",
     "output_type": "stream",
     "text": [
      "               \n",
      "Coin 1  0.00000\n",
      "Coin 2  0.25000\n",
      "ghpr    0.06066\n"
     ]
    }
   ],
   "source": [
    "f_two_coins_corr = f_multiple_returns(two_coins_corr)\n",
    "results_corr = f_two_coins_corr['optimal_f'].to_frame()\n",
    "results_corr.columns = ['']\n",
    "print(results_corr)"
   ]
  },
  {
   "cell_type": "code",
   "execution_count": 10,
   "metadata": {},
   "outputs": [
    {
     "data": {
      "image/png": "[encoded data removed]",
      "text/plain": [
       "<matplotlib.figure.Figure at 0x1c2370f048>"
      ]
     },
     "metadata": {},
     "output_type": "display_data"
    }
   ],
   "source": [
    "fig, ax = plt.subplots()\n",
    "optimal_idx = f_two_coins_corr['f_curve']['ghpr'].idxmax()\n",
    "optimal_weights = f_two_coins_corr['f_curve'].loc[optimal_idx, ['Coin 1', 'Coin 2']]\n",
    "pivoted = pd.pivot_table(f_two_coins_corr['f_curve'], values='ghpr', index='Coin 1', columns='Coin 2')\n",
    "pivoted.sort_index(ascending=False, inplace=True)\n",
    "pivoted.index = np.round(pivoted.index, 2)\n",
    "pivoted.columns = np.round(pivoted.columns, 2)\n",
    "sns.heatmap(pivoted, cmap='RdYlGn', center=0, ax=ax, cbar_kws={'label':'GHPR'})\n",
    "\n",
    "# xvals = ax.get_xticklabels()\n",
    "# ax.set_xticklabels(['{:,.2f}'.format(float(x)) for x in xvals])\n",
    "# yvals = ax.get_yticklabels()\n",
    "# ax.set_yticklabels(['{:,.2f}'.format(float(x)) for x in yvals])\n",
    "\n",
    "# ax.imshow(pivoted)\n",
    "# ax.scatter(optimal_weights[0], optimal_weights[1], marker='x', c='r')\n",
    "ax.scatter(optimal_weights[0]*100, (1 - optimal_weights[1])*100, marker='x', c='b', s=100)\n",
    "fig.tight_layout()\n",
    "fig.savefig('Two Correlated Coins Heatmap')"
   ]
  },
  {
   "cell_type": "markdown",
   "metadata": {},
   "source": [
    "## Negative Correlation"
   ]
  },
  {
   "cell_type": "code",
   "execution_count": 11,
   "metadata": {},
   "outputs": [
    {
     "data": {
      "text/html": [
       "<div>\n",
       "<style scoped>\n",
       "    .dataframe tbody tr th:only-of-type {\n",
       "        vertical-align: middle;\n",
       "    }\n",
       "\n",
       "    .dataframe tbody tr th {\n",
       "        vertical-align: top;\n",
       "    }\n",
       "\n",
       "    .dataframe thead th {\n",
       "        text-align: right;\n",
       "    }\n",
       "</style>\n",
       "<table border=\"1\" class=\"dataframe\">\n",
       "  <thead>\n",
       "    <tr style=\"text-align: right;\">\n",
       "      <th></th>\n",
       "      <th>Coin 1</th>\n",
       "      <th>Coin 2</th>\n",
       "    </tr>\n",
       "    <tr>\n",
       "      <th>Scenario</th>\n",
       "      <th></th>\n",
       "      <th></th>\n",
       "    </tr>\n",
       "  </thead>\n",
       "  <tbody>\n",
       "    <tr>\n",
       "      <th>1</th>\n",
       "      <td>2</td>\n",
       "      <td>-1.0</td>\n",
       "    </tr>\n",
       "    <tr>\n",
       "      <th>2</th>\n",
       "      <td>-1</td>\n",
       "      <td>0.6</td>\n",
       "    </tr>\n",
       "  </tbody>\n",
       "</table>\n",
       "</div>"
      ],
      "text/plain": [
       "          Coin 1  Coin 2\n",
       "Scenario                \n",
       "1              2    -1.0\n",
       "2             -1     0.6"
      ]
     },
     "execution_count": 11,
     "metadata": {},
     "output_type": "execute_result"
    }
   ],
   "source": [
    "two_coins_neg_corr = pd.DataFrame([[2,-1.0], [-1,0.6]], columns=['Coin 1', 'Coin 2'])\n",
    "two_coins_neg_corr.index = np.arange(1,3)\n",
    "two_coins_neg_corr.index.name = 'Scenario'\n",
    "two_coins_neg_corr"
   ]
  },
  {
   "cell_type": "code",
   "execution_count": 12,
   "metadata": {},
   "outputs": [
    {
     "name": "stdout",
     "output_type": "stream",
     "text": [
      "                \n",
      "Coin 1  0.790000\n",
      "Coin 2  0.990000\n",
      "ghpr    0.130646\n"
     ]
    }
   ],
   "source": [
    "f_two_coins_neg_corr = f_multiple_returns(two_coins_neg_corr)\n",
    "results_corr = f_two_coins_neg_corr['optimal_f'].to_frame()\n",
    "results_corr.columns = ['']\n",
    "print(results_corr)"
   ]
  },
  {
   "cell_type": "code",
   "execution_count": 13,
   "metadata": {},
   "outputs": [
    {
     "data": {
      "image/png": "[encoded data removed]",
      "text/plain": [
       "<matplotlib.figure.Figure at 0x119d4f940>"
      ]
     },
     "metadata": {},
     "output_type": "display_data"
    }
   ],
   "source": [
    "fig, ax = plt.subplots()\n",
    "optimal_idx = f_two_coins_neg_corr['f_curve']['ghpr'].idxmax()\n",
    "optimal_weights = f_two_coins_neg_corr['f_curve'].loc[optimal_idx, ['Coin 1', 'Coin 2']]\n",
    "pivoted = pd.pivot_table(f_two_coins_neg_corr['f_curve'], values='ghpr', index='Coin 1', columns='Coin 2')\n",
    "pivoted.sort_index(ascending=False, inplace=True)\n",
    "pivoted.index = np.round(pivoted.index, 2)\n",
    "pivoted.columns = np.round(pivoted.columns, 2)\n",
    "sns.heatmap(pivoted, cmap='RdYlGn', center=0, ax=ax, cbar_kws={'label':'GHPR'})\n",
    "\n",
    "# xvals = ax.get_xticklabels()\n",
    "# ax.set_xticklabels(['{:,.2f}'.format(float(x)) for x in xvals])\n",
    "# yvals = ax.get_yticklabels()\n",
    "# ax.set_yticklabels(['{:,.2f}'.format(float(x)) for x in yvals])\n",
    "\n",
    "# ax.imshow(pivoted)\n",
    "# ax.scatter(optimal_weights[0], optimal_weights[1], marker='x', c='r')\n",
    "ax.scatter(optimal_weights[1]*100, (1 - optimal_weights[0])*100, marker='x', c='b', s=100)\n",
    "fig.tight_layout()\n",
    "fig.savefig('Neg Correlated Coins Heatmap')"
   ]
  },
  {
   "cell_type": "markdown",
   "metadata": {},
   "source": [
    "# Drawdown Constraints"
   ]
  },
  {
   "cell_type": "markdown",
   "metadata": {},
   "source": [
    "## Helper Functions"
   ]
  },
  {
   "cell_type": "code",
   "execution_count": 20,
   "metadata": {},
   "outputs": [],
   "source": [
    "def get_equity_curve(returns):\n",
    "    equity_curve = (1 + returns).cumprod(axis=0)\n",
    "    # Set the starting value of every curve to 1\n",
    "    # normalized_eq = raw_eq / raw_eq[0]\n",
    "    return equity_curve\n",
    "\n",
    "def calc_twr(equity_curve, start_at_1=True):\n",
    "    eq_arr = np.array(equity_curve)\n",
    "    if start_at_1 == True:\n",
    "        twr = eq_arr[-1] \n",
    "    else:\n",
    "        twr = eq_arr[-1] / eq_arr[0]\n",
    "    return twr\n",
    "\n",
    "def calc_ghpr_eq(equity_curve):\n",
    "    twr = calc_twr(equity_curve)\n",
    "    ghpr_eq = twr ** (1 / len(equity_curve)) - 1\n",
    "    return ghpr_eq\n",
    "\n",
    "def calc_drawdown(equity_curve):\n",
    "    eq_series = pd.DataFrame(equity_curve)\n",
    "    drawdown = eq_series / eq_series.cummax() - 1\n",
    "    return drawdown\n",
    "\n",
    "def calc_max_drawdown(equity_curve, percent=True):\n",
    "    abs_drawdown = np.abs(calc_drawdown(equity_curve)).values\n",
    "    max_drawdown = np.max(abs_drawdown)\n",
    "    if percent == True:\n",
    "        return max_drawdown * 100\n",
    "    else:\n",
    "        return max_drawdown\n",
    "    \n",
    "def calc_ulcer_index(equity_curve):\n",
    "    drawdown = calc_drawdown(equity_curve)\n",
    "    ulcer_index = np.sqrt(np.mean(drawdown**2)) * 100\n",
    "    return ulcer_index\n",
    "\n",
    "def ideal_f_multiple(returns, time_horizon=250, n_curves=1000, \n",
    "                     drawdown_limit=20, certainty_level=95, steps=100, \n",
    "                     bound_factor=1):\n",
    "    start = time.time()\n",
    "    strategies = returns.columns\n",
    "    potential_weights = weight_combinations(returns, steps, bound_factor)\n",
    "    f_curve = pd.DataFrame()\n",
    "    for i in range(len(potential_weights)):\n",
    "        # Record weights\n",
    "        weights = potential_weights[i]\n",
    "        for j in range(len(strategies)):\n",
    "            f_curve.loc[i, strategies[j]] = weights[j]\n",
    "        weighted_returns = calc_weighted_returns(returns, weights)\n",
    "            \n",
    "        # Generate n random equity curves\n",
    "        reordered_returns = np.random.choice(weighted_returns, size=(time_horizon, n_curves))\n",
    "        curves = get_equity_curve(reordered_returns)\n",
    "        curves_df = pd.DataFrame(curves)\n",
    "        \n",
    "        # Calculate GHPR and Maximum Drawdown for each equity curve\n",
    "        curves_drawdown = calc_max_drawdown(curves_df)\n",
    "        curves_ghpr = calc_ghpr_eq(curves_df)\n",
    "        \n",
    "        # Calculate drawdown at our certainty level\n",
    "        drawdown_percentile = np.percentile(curves_drawdown, certainty_level)\n",
    "        \n",
    "        # Calculate median ghpr value\n",
    "        ghpr_median = np.median(curves_ghpr)\n",
    "        if drawdown_percentile <= drawdown_limit:\n",
    "            ghpr = ghpr_median\n",
    "        else:\n",
    "            ghpr = 0\n",
    "        f_curve.loc[i, 'ghpr'] = ghpr * 100\n",
    "        f_curve.loc[i, 'drawdown'] = drawdown_percentile\n",
    "    optimal_f = f_curve.loc[f_curve['ghpr'].idxmax()]\n",
    "    elapsed = time.time() - start\n",
    "    print('Ideal f calculated in {}s'.format(elapsed))\n",
    "    \n",
    "    return {'f_curve':f_curve, 'optimal_f':optimal_f}"
   ]
  },
  {
   "cell_type": "markdown",
   "metadata": {},
   "source": [
    "## Load Data"
   ]
  },
  {
   "cell_type": "code",
   "execution_count": 21,
   "metadata": {},
   "outputs": [
    {
     "name": "stdout",
     "output_type": "stream",
     "text": [
      "[*********************100%***********************]  1 of 1 downloaded\n",
      "[*********************100%***********************]  1 of 1 downloaded\n"
     ]
    },
    {
     "data": {
      "text/plain": [
       "<matplotlib.axes._subplots.AxesSubplot at 0x1c25b9ed30>"
      ]
     },
     "execution_count": 21,
     "metadata": {},
     "output_type": "execute_result"
    },
    {
     "data": {
      "image/png": "[encoded data removed]",
      "text/plain": [
       "<matplotlib.figure.Figure at 0x1c25b2fef0>"
      ]
     },
     "metadata": {},
     "output_type": "display_data"
    }
   ],
   "source": [
    "from pandas_datareader import data as pdr\n",
    "import fix_yahoo_finance as yf\n",
    "yf.pdr_override()\n",
    "\n",
    "start_date = '2005-01-01'\n",
    "end_date = '2015-01-01'\n",
    "\n",
    "# Get returns for SPY and TLT\n",
    "etf_returns = pd.DataFrame()\n",
    "etfs = {}\n",
    "for symbol in ['SPY', 'TLT']:\n",
    "    df = pdr.get_data_yahoo(symbol, start=start_date, \n",
    "                            end=end_date, auto_adjust=True)\n",
    "    etfs[symbol] = df\n",
    "    etf_returns[symbol] = df['Close'].pct_change()\n",
    "get_equity_curve(etf_returns).plot()"
   ]
  },
  {
   "cell_type": "code",
   "execution_count": 22,
   "metadata": {},
   "outputs": [
    {
     "data": {
      "image/png": "[encoded data removed]",
      "text/plain": [
       "<matplotlib.figure.Figure at 0x1c25b3dbe0>"
      ]
     },
     "metadata": {},
     "output_type": "display_data"
    }
   ],
   "source": [
    "sns.set_style('white')\n",
    "fig, ax = plt.subplots()\n",
    "get_equity_curve(etf_returns).plot(ax=ax)\n",
    "ax.axhline(1, c='k', linewidth=0.5)\n",
    "ax.set_xlabel('')\n",
    "ax.set_ylabel('NAV')\n",
    "fig.tight_layout()\n",
    "fig.savefig('SPY_TLT Buy_Hold Equity')"
   ]
  },
  {
   "cell_type": "code",
   "execution_count": 23,
   "metadata": {},
   "outputs": [
    {
     "name": "stdout",
     "output_type": "stream",
     "text": [
      "Ideal f calculated in 104.5985779762268s\n",
      "SPY          0.457094\n",
      "TLT          0.495551\n",
      "ghpr         0.032737\n",
      "drawdown    19.833778\n",
      "Name: 1810, dtype: float64\n"
     ]
    }
   ],
   "source": [
    "f_etfs_dd = ideal_f_multiple(etf_returns, bound_factor=4)\n",
    "print(f_etfs_dd['optimal_f'])"
   ]
  },
  {
   "cell_type": "code",
   "execution_count": 24,
   "metadata": {},
   "outputs": [
    {
     "data": {
      "image/png": "[encoded data removed]",
      "text/plain": [
       "<matplotlib.figure.Figure at 0x1c266e81d0>"
      ]
     },
     "metadata": {},
     "output_type": "display_data"
    }
   ],
   "source": [
    "fig, ax = plt.subplots()\n",
    "optimal_idx = f_etfs_dd['f_curve']['ghpr'].idxmax()\n",
    "optimal_weights = f_etfs_dd['f_curve'].loc[optimal_idx, ['SPY', 'TLT']]\n",
    "\n",
    "pivoted = pd.pivot_table(f_etfs_dd['f_curve'], values='ghpr', columns='SPY', index='TLT')\n",
    "pivoted.sort_index(ascending=False, inplace=True)\n",
    "pivoted.index = np.round(pivoted.index, 2)\n",
    "pivoted.columns = np.round(pivoted.columns, 2)\n",
    "pivoted = pivoted.iloc[-25:, :25]\n",
    "optimal_x = optimal_weights[0] / pivoted.columns[-1] * 25\n",
    "optimal_y = (1 - optimal_weights[1] / pivoted.index[0]) * 25\n",
    "\n",
    "sns.heatmap(pivoted, cmap='RdYlGn', center=0, ax=ax, cbar_kws={'label':'GHPR (%)'})\n",
    "\n",
    "ax.scatter(optimal_x, optimal_y, marker='*', c='red', s=200)\n",
    "fig.tight_layout()\n",
    "fig.savefig('ETF Returns Heatmap')"
   ]
  },
  {
   "cell_type": "code",
   "execution_count": 25,
   "metadata": {},
   "outputs": [
    {
     "data": {
      "text/plain": [
       "0.08597973675489645"
      ]
     },
     "execution_count": 25,
     "metadata": {},
     "output_type": "execute_result"
    }
   ],
   "source": [
    "max_ghpr = f_etfs_dd['optimal_f']['ghpr']\n",
    "(1 + max_ghpr/100)**252 - 1"
   ]
  },
  {
   "cell_type": "markdown",
   "metadata": {},
   "source": [
    "# Non-Linear Optimization"
   ]
  },
  {
   "cell_type": "markdown",
   "metadata": {},
   "source": [
    "## Helper Functions"
   ]
  },
  {
   "cell_type": "code",
   "execution_count": 26,
   "metadata": {},
   "outputs": [],
   "source": [
    "def sharpe_ratio(x):\n",
    "    return np.mean(x) / np.std(x)\n",
    "\n",
    "def rolling_z_score(series, lookback):\n",
    "    mu = series.rolling(lookback).mean()\n",
    "    sigma = series.rolling(lookback).mean()\n",
    "    return (series - mu) / sigma\n",
    "\n",
    "class Portfolio:\n",
    "    \n",
    "    def __init__(self, returns, regularized=False, c=1e-6):\n",
    "        self.returns = returns\n",
    "        self.regularized = regularized\n",
    "        self.c = c\n",
    "        \n",
    "    def fitness_function(self, weights):\n",
    "        weighted_returns = calc_weighted_returns(self.returns, weights)\n",
    "        neg_sharpe_ratio = -1 * sharpe_ratio(weighted_returns)\n",
    "        penalty = self.c * np.linalg.norm(weights, ord=1)\n",
    "        if self.regularized:\n",
    "            return neg_sharpe_ratio\n",
    "        else:\n",
    "            return neg_sharpe_ratio + penalty\n",
    "\n",
    "    def optimize_portfolio(self, display=False):\n",
    "        num_strategies = self.returns.shape[1]\n",
    "        initial_guess = [0.5] * num_strategies\n",
    "        optimization_results = cma.fmin(\n",
    "                self.fitness_function, initial_guess, 0.25, \n",
    "                options={'bounds':[0,1], 'verb_disp':display, 'tolfun':0.0001}\n",
    "        )\n",
    "        return optimization_results[0]"
   ]
  },
  {
   "cell_type": "markdown",
   "metadata": {},
   "source": [
    "## Create Strategies"
   ]
  },
  {
   "cell_type": "code",
   "execution_count": 27,
   "metadata": {},
   "outputs": [
    {
     "ename": "TypeError",
     "evalue": "rolling_z_score() takes 2 positional arguments but 3 were given",
     "output_type": "error",
     "traceback": [
      "\u001b[0;31m---------------------------------------------------------------------------\u001b[0m",
      "\u001b[0;31mTypeError\u001b[0m                                 Traceback (most recent call last)",
      "\u001b[0;32m<ipython-input-27-b3e1f126c7c9>\u001b[0m in \u001b[0;36m<module>\u001b[0;34m()\u001b[0m\n\u001b[1;32m      4\u001b[0m \u001b[0mspy\u001b[0m \u001b[0;34m=\u001b[0m \u001b[0metfs\u001b[0m\u001b[0;34m[\u001b[0m\u001b[0;34m'SPY'\u001b[0m\u001b[0;34m]\u001b[0m\u001b[0;34m\u001b[0m\u001b[0m\n\u001b[1;32m      5\u001b[0m \u001b[0mspy_returns\u001b[0m \u001b[0;34m=\u001b[0m \u001b[0mspy\u001b[0m\u001b[0;34m[\u001b[0m\u001b[0;34m'Open'\u001b[0m\u001b[0;34m]\u001b[0m\u001b[0;34m.\u001b[0m\u001b[0mpct_change\u001b[0m\u001b[0;34m(\u001b[0m\u001b[0;34m)\u001b[0m\u001b[0;34m.\u001b[0m\u001b[0mshift\u001b[0m\u001b[0;34m(\u001b[0m\u001b[0;34m-\u001b[0m\u001b[0;36m2\u001b[0m\u001b[0;34m)\u001b[0m\u001b[0;34m\u001b[0m\u001b[0m\n\u001b[0;32m----> 6\u001b[0;31m \u001b[0mstrategies\u001b[0m\u001b[0;34m[\u001b[0m\u001b[0;34m'SPY_5'\u001b[0m\u001b[0;34m]\u001b[0m \u001b[0;34m=\u001b[0m \u001b[0mrolling_z_score\u001b[0m\u001b[0;34m(\u001b[0m\u001b[0mspy\u001b[0m\u001b[0;34m[\u001b[0m\u001b[0;34m'Close'\u001b[0m\u001b[0;34m]\u001b[0m\u001b[0;34m,\u001b[0m \u001b[0;36m5\u001b[0m\u001b[0;34m,\u001b[0m \u001b[0;36m20\u001b[0m\u001b[0;34m)\u001b[0m \u001b[0;34m*\u001b[0m \u001b[0;34m-\u001b[0m\u001b[0;36m1\u001b[0m\u001b[0;34m\u001b[0m\u001b[0m\n\u001b[0m\u001b[1;32m      7\u001b[0m \u001b[0mstrategies\u001b[0m\u001b[0;34m[\u001b[0m\u001b[0;34m'SPY_50'\u001b[0m\u001b[0;34m]\u001b[0m \u001b[0;34m=\u001b[0m \u001b[0mrolling_z_score\u001b[0m\u001b[0;34m(\u001b[0m\u001b[0mspy\u001b[0m\u001b[0;34m[\u001b[0m\u001b[0;34m'Close'\u001b[0m\u001b[0;34m]\u001b[0m\u001b[0;34m,\u001b[0m \u001b[0;36m50\u001b[0m\u001b[0;34m,\u001b[0m \u001b[0;36m20\u001b[0m\u001b[0;34m)\u001b[0m\u001b[0;34m\u001b[0m\u001b[0m\n\u001b[1;32m      8\u001b[0m \u001b[0mstrategies\u001b[0m\u001b[0;34m[\u001b[0m\u001b[0;34m'SPY_100'\u001b[0m\u001b[0;34m]\u001b[0m \u001b[0;34m=\u001b[0m \u001b[0mrolling_z_score\u001b[0m\u001b[0;34m(\u001b[0m\u001b[0mspy\u001b[0m\u001b[0;34m[\u001b[0m\u001b[0;34m'Close'\u001b[0m\u001b[0;34m]\u001b[0m\u001b[0;34m,\u001b[0m \u001b[0;36m100\u001b[0m\u001b[0;34m,\u001b[0m \u001b[0;36m20\u001b[0m\u001b[0;34m)\u001b[0m\u001b[0;34m\u001b[0m\u001b[0m\n",
      "\u001b[0;31mTypeError\u001b[0m: rolling_z_score() takes 2 positional arguments but 3 were given"
     ]
    }
   ],
   "source": [
    "strategies = pd.DataFrame(index=etf_returns.index)\n",
    "strategy_returns = pd.DataFrame(index=etf_returns.index)\n",
    "\n",
    "spy = etfs['SPY']\n",
    "spy_returns = spy['Open'].pct_change().shift(-2)\n",
    "strategies['SPY_5'] = rolling_z_score(spy['Close'], 5, 20) * -1\n",
    "strategies['SPY_50'] = rolling_z_score(spy['Close'], 50, 20)\n",
    "strategies['SPY_100'] = rolling_z_score(spy['Close'], 100, 20)\n",
    "\n",
    "tlt = etfs['TLT']\n",
    "tlt_returns = tlt['Open'].pct_change().shift(-2)\n",
    "strategies['TLT_5'] = rolling_z_score(tlt['Close'], 5, 20) * -1\n",
    "strategies['TLT_50'] = rolling_z_score(tlt['Close'], 50, 20)\n",
    "strategies['TLT_100'] = rolling_z_score(tlt['Close'], 100, 20)\n",
    "\n",
    "for column in strategies.columns:\n",
    "    symbol = column[:3]\n",
    "    if symbol == 'SPY':\n",
    "        strategy_returns[column] = strategies[column].multiply(spy_returns)\n",
    "    elif symbol == 'TLT':\n",
    "        strategy_returns[column] = strategies[column].multiply(tlt_returns)"
   ]
  },
  {
   "cell_type": "markdown",
   "metadata": {},
   "source": [
    "## Optimize Portfolio"
   ]
  },
  {
   "cell_type": "code",
   "execution_count": null,
   "metadata": {},
   "outputs": [],
   "source": [
    "portfolio = Portfolio(strategy_returns)\n",
    "results = portfolio.optimize_portfolio()\n",
    "optimal_weights = pd.DataFrame(np.round(results, 2), index=strategy_returns.columns, columns=[''])\n",
    "optimal_weights"
   ]
  },
  {
   "cell_type": "markdown",
   "metadata": {},
   "source": [
    "## Determine Leverage"
   ]
  },
  {
   "cell_type": "code",
   "execution_count": null,
   "metadata": {},
   "outputs": [],
   "source": [
    "def ideal_f(returns, time_horizon=250, n_curves=5000, drawdown_limit=20, certainty_level=95, steps=200):    \n",
    "    \n",
    "    start = time.time()\n",
    "    f_values = np.linspace(0, 0.99, steps)\n",
    "    max_loss = np.abs(np.min(returns))\n",
    "    bounded_f = f_values / max_loss\n",
    "    f_curve = pd.DataFrame(columns=['ghpr', 'drawdown'])    \n",
    "    for f in bounded_f:\n",
    "        # Generate n_curves number of random equity curves\n",
    "        reordered_returns = np.random.choice(f * returns, size=(time_horizon, n_curves))\n",
    "        curves = get_equity_curve(reordered_returns)\n",
    "        curves_df = pd.DataFrame(curves)        \n",
    "        # Calculate GHPR and Maximum Drawdown for each equity curve\n",
    "        curves_drawdown = calc_max_drawdown(curves_df)\n",
    "        curves_ghpr = calc_ghpr_eq(curves_df) \n",
    "        # Calculate drawdown at our certainty level\n",
    "        drawdown_percentile = np.percentile(curves_drawdown, certainty_level)\n",
    "        # Calculate median ghpr value\n",
    "        ghpr_median = np.median(curves_ghpr)\n",
    "        if drawdown_percentile <= drawdown_limit:\n",
    "            ghpr = ghpr_median\n",
    "        else:\n",
    "            ghpr = 0\n",
    "        f_curve.loc[f, 'ghpr'] = ghpr * 100\n",
    "        f_curve.loc[f, 'drawdown'] = drawdown_percentile\n",
    "    optimal_f = f_curve['ghpr'].idxmax()\n",
    "    \n",
    "    elapsed = time.time() - start\n",
    "    print('Ideal f calculated in {}s'.format(elapsed))\n",
    "    \n",
    "    return {'f_curve':f_curve, 'optimal_f':optimal_f, 'max_loss':max_loss}"
   ]
  },
  {
   "cell_type": "code",
   "execution_count": null,
   "metadata": {},
   "outputs": [],
   "source": [
    "optimal_returns = calc_weighted_returns(strategy_returns, results)\n",
    "leverage = ideal_f(optimal_returns)['optimal_f']\n",
    "print(leverage)"
   ]
  },
  {
   "cell_type": "code",
   "execution_count": null,
   "metadata": {},
   "outputs": [],
   "source": [
    "leveraged_weights = optimal_weights.multiply(leverage)\n",
    "leveraged_returns = calc_weighted_returns(strategy_returns, leveraged_weights.values.flatten())\n",
    "np.round(leveraged_weights, 2)"
   ]
  },
  {
   "cell_type": "markdown",
   "metadata": {},
   "source": [
    "## Plot Performance"
   ]
  },
  {
   "cell_type": "code",
   "execution_count": null,
   "metadata": {},
   "outputs": [],
   "source": [
    "sns.set_style('whitegrid')\n",
    "fig, axes = plt.subplots(2, 1, figsize=(7,7), sharex=True)\n",
    "\n",
    "eq = get_equity_curve(leveraged_returns)\n",
    "dd = calc_drawdown(eq)\n",
    "\n",
    "eq.plot(ax=axes[0])\n",
    "axes[0].axhline(1, c='k', linewidth=0.5)\n",
    "axes[0].set_ylabel('NAV')\n",
    "\n",
    "dd.plot(kind='area', ax=axes[1])\n",
    "axes[1].set_ylabel('Drawdown')\n",
    "vals1 = axes[1].get_yticks()\n",
    "axes[1].set_yticklabels(['{:,.2%}'.format(x) for x in vals1])\n",
    "axes[1].get_legend().remove()\n",
    "fig.tight_layout()\n",
    "fig.savefig('Leveraged Portfolio Equity Curve')"
   ]
  }
 ],
 "metadata": {
  "kernelspec": {
   "display_name": "Python 3",
   "language": "python",
   "name": "python3"
  },
  "language_info": {
   "codemirror_mode": {
    "name": "ipython",
    "version": 3
   },
   "file_extension": ".py",
   "mimetype": "text/x-python",
   "name": "python",
   "nbconvert_exporter": "python",
   "pygments_lexer": "ipython3",
   "version": "3.6.4"
  },
  "toc": {
   "base_numbering": 1,
   "nav_menu": {},
   "number_sections": true,
   "sideBar": true,
   "skip_h1_title": false,
   "title_cell": "Table of Contents",
   "title_sidebar": "Contents",
   "toc_cell": false,
   "toc_position": {
    "height": "calc(100% - 180px)",
    "left": "10px",
    "top": "150px",
    "width": "332px"
   },
   "toc_section_display": "block",
   "toc_window_display": true
  }
 },
 "nbformat": 4,
 "nbformat_minor": 2
}
